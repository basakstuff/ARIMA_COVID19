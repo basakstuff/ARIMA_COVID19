{
  "nbformat": 4,
  "nbformat_minor": 0,
  "metadata": {
    "colab": {
      "name": "pamap2_first look.ipynb",
      "provenance": [],
      "collapsed_sections": [],
      "authorship_tag": "ABX9TyPGwzW5avki5F95n+KetR8K",
      "include_colab_link": true
    },
    "kernelspec": {
      "name": "python3",
      "display_name": "Python 3"
    }
  },
  "cells": [
    {
      "cell_type": "markdown",
      "metadata": {
        "id": "view-in-github",
        "colab_type": "text"
      },
      "source": [
        "<a href=\"https://colab.research.google.com/github/basakstuff/ARIMA_COVID19/blob/master/pamap2_first_look.ipynb\" target=\"_parent\"><img src=\"https://colab.research.google.com/assets/colab-badge.svg\" alt=\"Open In Colab\"/></a>"
      ]
    },
    {
      "cell_type": "markdown",
      "metadata": {
        "id": "AIeT693k2BLK"
      },
      "source": [
        "The PAMAP2 Physical Activity Monitoring dataset contains data of 18 different physical activities (such as walking, cycling, playing soccer, etc.), performed by 9 subjects wearing 3 inertial measurement units and a heart rate monitor. The dataset can be used for activity recognition and intensity estimation, while developing and applying algorithms of data processing, segmentation, feature extraction and classification\r\n",
        "\r\n"
      ]
    },
    {
      "cell_type": "code",
      "metadata": {
        "id": "_rI4itv9180r"
      },
      "source": [
        "import numpy as np\r\n",
        "import pandas as pd\r\n",
        "import seaborn as sns\r\n",
        "from matplotlib import pyplot as plt\r\n",
        "from IPython.display import display\r\n",
        "from sklearn.linear_model import LinearRegression,LogisticRegression\r\n",
        "from sklearn.metrics import confusion_matrix,accuracy_score,log_loss\r\n",
        "from sklearn.ensemble import RandomForestClassifier\r\n",
        "from sklearn.tree import DecisionTreeClassifier\r\n",
        "from sklearn.preprocessing import OneHotEncoder\r\n",
        "from keras.models import Sequential\r\n",
        "from keras.models import Model\r\n",
        "from keras.layers import Dense, Input, LSTM, Dropout"
      ],
      "execution_count": null,
      "outputs": []
    },
    {
      "cell_type": "markdown",
      "metadata": {
        "id": "NckhAAO02Tjm"
      },
      "source": [
        "Loading Always Comes First\r\n",
        "In this section we will load the data from the data set.\r\n",
        "\r\n",
        "* load_activity_map - get the map of human activities describe in the data set\r\n",
        "* generate_three_IMU - generate 3 columns of x, y, z data\r\n",
        "* generate_four_IMU - generate 4 columns of x, y, z, w data\r\n",
        "* generate_cols_IMU - for a given name generate 5 columns of the sensors as  describe in the data set (accelmoter 16, 6, gyroscope, magnometer and orentaion\r\n",
        "* load_IMU - load all 52 columns of a subject in the data set\r\n",
        "* load_subjects - load all subjects from a given root"
      ]
    },
    {
      "cell_type": "code",
      "metadata": {
        "id": "QjAelwCI2NPg"
      },
      "source": [
        "def load_activity_map():\r\n",
        "    map = {}\r\n",
        "    map[0] = 'transient'\r\n",
        "    map[1] = 'lying'\r\n",
        "    map[2] = 'sitting'\r\n",
        "    map[3] = 'standing'\r\n",
        "    map[4] = 'walking'\r\n",
        "    map[5] = 'running'\r\n",
        "    map[6] = 'cycling'\r\n",
        "    map[7] = 'Nordic_walking'\r\n",
        "    map[9] = 'watching_TV'\r\n",
        "    map[10] = 'computer_work'\r\n",
        "    map[11] = 'car driving'\r\n",
        "    map[12] = 'ascending_stairs'\r\n",
        "    map[13] = 'descending_stairs'\r\n",
        "    map[16] = 'vacuum_cleaning'\r\n",
        "    map[17] = 'ironing'\r\n",
        "    map[18] = 'folding_laundry'\r\n",
        "    map[19] = 'house_cleaning'\r\n",
        "    map[20] = 'playing_soccer'\r\n",
        "    map[24] = 'rope_jumping'\r\n",
        "    return map"
      ],
      "execution_count": null,
      "outputs": []
    },
    {
      "cell_type": "code",
      "metadata": {
        "id": "uRfFGxES2NSW"
      },
      "source": [
        ""
      ],
      "execution_count": null,
      "outputs": []
    },
    {
      "cell_type": "code",
      "metadata": {
        "id": "l7Yg4Kke2NU8"
      },
      "source": [
        ""
      ],
      "execution_count": null,
      "outputs": []
    },
    {
      "cell_type": "code",
      "metadata": {
        "id": "DkYazeDI2NYh"
      },
      "source": [
        ""
      ],
      "execution_count": null,
      "outputs": []
    }
  ]
}